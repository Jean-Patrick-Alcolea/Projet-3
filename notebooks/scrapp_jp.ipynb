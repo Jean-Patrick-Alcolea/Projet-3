{
 "cells": [
  {
   "cell_type": "code",
   "execution_count": 25,
   "id": "12771cd5",
   "metadata": {},
   "outputs": [],
   "source": [
    "import requests\n",
    "from bs4 import BeautifulSoup\n",
    "import re"
   ]
  },
  {
   "cell_type": "code",
   "execution_count": 2,
   "id": "65c73f58",
   "metadata": {},
   "outputs": [],
   "source": [
    "url = 'https://france.comersis.com/departement.php'\n",
    "html = requests.get(url)"
   ]
  },
  {
   "cell_type": "code",
   "execution_count": 7,
   "id": "41b588ad",
   "metadata": {},
   "outputs": [],
   "source": [
    "soup = BeautifulSoup(html.text, 'html.parser')"
   ]
  },
  {
   "cell_type": "code",
   "execution_count": 39,
   "id": "ae7d7adc",
   "metadata": {},
   "outputs": [],
   "source": [
    "list_a = soup.find_all('a')"
   ]
  },
  {
   "cell_type": "code",
   "execution_count": 53,
   "id": "59d0c6b7",
   "metadata": {},
   "outputs": [
    {
     "data": {
      "text/plain": [
       "<a class=\"navbar-brand\" href=\"index.php\"><img align=\"left\" alt=\"logo-france\" src=\"im/ss_france.png\"/> france.comersis.com</a>"
      ]
     },
     "execution_count": 53,
     "metadata": {},
     "output_type": "execute_result"
    }
   ],
   "source": [
    "list_a[0]"
   ]
  },
  {
   "cell_type": "code",
   "execution_count": 59,
   "id": "9e05cb8c",
   "metadata": {},
   "outputs": [],
   "source": [
    "liens = []\n",
    "for li in list_a:\n",
    "    if re.search(r'departement\\.\\w+\\?\\w+\\=\\w+', str(li)):\n",
    "        liens.append(re.search(r'departement\\.\\w+\\?\\w+\\=\\w+', str(li)).group(0))\n",
    "liens.append('departement.php?dpt=75')"
   ]
  },
  {
   "cell_type": "code",
   "execution_count": 60,
   "id": "1c364db3",
   "metadata": {},
   "outputs": [
    {
     "data": {
      "text/plain": [
       "['departement.php?dpt=01',\n",
       " 'departement.php?dpt=02',\n",
       " 'departement.php?dpt=03',\n",
       " 'departement.php?dpt=04',\n",
       " 'departement.php?dpt=05',\n",
       " 'departement.php?dpt=06',\n",
       " 'departement.php?dpt=07',\n",
       " 'departement.php?dpt=08',\n",
       " 'departement.php?dpt=09',\n",
       " 'departement.php?dpt=10',\n",
       " 'departement.php?dpt=11',\n",
       " 'departement.php?dpt=12',\n",
       " 'departement.php?dpt=13',\n",
       " 'departement.php?dpt=14',\n",
       " 'departement.php?dpt=15',\n",
       " 'departement.php?dpt=16',\n",
       " 'departement.php?dpt=17',\n",
       " 'departement.php?dpt=18',\n",
       " 'departement.php?dpt=19',\n",
       " 'departement.php?dpt=21',\n",
       " 'departement.php?dpt=22',\n",
       " 'departement.php?dpt=23',\n",
       " 'departement.php?dpt=24',\n",
       " 'departement.php?dpt=25',\n",
       " 'departement.php?dpt=26',\n",
       " 'departement.php?dpt=27',\n",
       " 'departement.php?dpt=28',\n",
       " 'departement.php?dpt=29',\n",
       " 'departement.php?dpt=2A',\n",
       " 'departement.php?dpt=2B',\n",
       " 'departement.php?dpt=30',\n",
       " 'departement.php?dpt=31',\n",
       " 'departement.php?dpt=32',\n",
       " 'departement.php?dpt=33',\n",
       " 'departement.php?dpt=34',\n",
       " 'departement.php?dpt=35',\n",
       " 'departement.php?dpt=36',\n",
       " 'departement.php?dpt=37',\n",
       " 'departement.php?dpt=38',\n",
       " 'departement.php?dpt=39',\n",
       " 'departement.php?dpt=40',\n",
       " 'departement.php?dpt=41',\n",
       " 'departement.php?dpt=42',\n",
       " 'departement.php?dpt=43',\n",
       " 'departement.php?dpt=44',\n",
       " 'departement.php?dpt=45',\n",
       " 'departement.php?dpt=46',\n",
       " 'departement.php?dpt=47',\n",
       " 'departement.php?dpt=48',\n",
       " 'departement.php?dpt=49',\n",
       " 'departement.php?dpt=50',\n",
       " 'departement.php?dpt=51',\n",
       " 'departement.php?dpt=52',\n",
       " 'departement.php?dpt=53',\n",
       " 'departement.php?dpt=54',\n",
       " 'departement.php?dpt=55',\n",
       " 'departement.php?dpt=56',\n",
       " 'departement.php?dpt=57',\n",
       " 'departement.php?dpt=58',\n",
       " 'departement.php?dpt=59',\n",
       " 'departement.php?dpt=60',\n",
       " 'departement.php?dpt=61',\n",
       " 'departement.php?dpt=62',\n",
       " 'departement.php?dpt=63',\n",
       " 'departement.php?dpt=64',\n",
       " 'departement.php?dpt=65',\n",
       " 'departement.php?dpt=66',\n",
       " 'departement.php?dpt=67',\n",
       " 'departement.php?dpt=68',\n",
       " 'departement.php?dpt=69',\n",
       " 'departement.php?dpt=70',\n",
       " 'departement.php?dpt=71',\n",
       " 'departement.php?dpt=72',\n",
       " 'departement.php?dpt=73',\n",
       " 'departement.php?dpt=74',\n",
       " 'departement.php?dpt=76',\n",
       " 'departement.php?dpt=77',\n",
       " 'departement.php?dpt=78',\n",
       " 'departement.php?dpt=79',\n",
       " 'departement.php?dpt=80',\n",
       " 'departement.php?dpt=81',\n",
       " 'departement.php?dpt=82',\n",
       " 'departement.php?dpt=83',\n",
       " 'departement.php?dpt=84',\n",
       " 'departement.php?dpt=85',\n",
       " 'departement.php?dpt=86',\n",
       " 'departement.php?dpt=87',\n",
       " 'departement.php?dpt=88',\n",
       " 'departement.php?dpt=89',\n",
       " 'departement.php?dpt=90',\n",
       " 'departement.php?dpt=91',\n",
       " 'departement.php?dpt=92',\n",
       " 'departement.php?dpt=93',\n",
       " 'departement.php?dpt=94',\n",
       " 'departement.php?dpt=95',\n",
       " 'departement.php?dpt=971',\n",
       " 'departement.php?dpt=972',\n",
       " 'departement.php?dpt=973',\n",
       " 'departement.php?dpt=974',\n",
       " 'departement.php?dpt=976',\n",
       " 'departement.php?dpt=75']"
      ]
     },
     "execution_count": 60,
     "metadata": {},
     "output_type": "execute_result"
    }
   ],
   "source": [
    "liens"
   ]
  }
 ],
 "metadata": {
  "kernelspec": {
   "display_name": ".venv",
   "language": "python",
   "name": "python3"
  },
  "language_info": {
   "codemirror_mode": {
    "name": "ipython",
    "version": 3
   },
   "file_extension": ".py",
   "mimetype": "text/x-python",
   "name": "python",
   "nbconvert_exporter": "python",
   "pygments_lexer": "ipython3",
   "version": "3.11.9"
  }
 },
 "nbformat": 4,
 "nbformat_minor": 5
}
